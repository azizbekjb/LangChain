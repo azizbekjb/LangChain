{
 "cells": [
  {
   "cell_type": "code",
   "execution_count": 2,
   "id": "18620ae7",
   "metadata": {},
   "outputs": [],
   "source": [
    "#---------------------------------------------------------------START-----------------------------------------------------\n",
    "# Source link: https://python.langchain.com/docs/tutorials/chatbot/\n",
    "\n",
    "import os\n",
    "import getpass"
   ]
  },
  {
   "cell_type": "code",
   "execution_count": 3,
   "id": "1beb0756",
   "metadata": {},
   "outputs": [],
   "source": [
    "os.environ[\"LANGSMITH_TRACING\"] = \"true\"\n",
    "os.environ[\"LANGSMITH_API_KEY\"] = getpass.getpass(\"LangSmith API kalitni kiriting!\")"
   ]
  },
  {
   "cell_type": "code",
   "execution_count": 6,
   "id": "455ce664",
   "metadata": {},
   "outputs": [],
   "source": [
    "from langchain.chat_models import init_chat_model\n",
    "\n",
    "if not os.environ.get(\"GOOGLE_API_KEY\"):\n",
    "  os.environ[\"GOOGLE_API_KEY\"] = getpass.getpass(\"Enter API key for Google Gemini: \")\n",
    "\n",
    "model = init_chat_model(\"gemini-2.0-flash\", model_provider=\"google_genai\")"
   ]
  },
  {
   "cell_type": "code",
   "execution_count": null,
   "id": "958b0723",
   "metadata": {},
   "outputs": [
    {
     "name": "stdout",
     "output_type": "stream",
     "text": [
      ">>> Salom! Sizga qanday yordam bera olaman?\n",
      ">>> Men Google tomonidan oʻrgatilgan katta til modeli boʻlaman.\n",
      ">>> \"Axmoq\" is a word used in some Central Asian languages, including Uzbek and Tajik, and it translates to \"fool\" or \"idiot\" in English. It's considered an insult.\n",
      ">>> Gapit is a fascinating word with a few potential meanings, depending on the context. Here's a breakdown of what it could refer to:\n",
      "\n",
      "**1. A Place Name/Location:**\n",
      "\n",
      "*   **Gapit, Philippines:** This is the most common meaning. Gapit is a barangay (village) in the municipality of Taytay, Rizal, Philippines.\n",
      "\n",
      "**2. A Surname:**\n",
      "\n",
      "*   **Gapit (Surname):** It's also a surname, likely originating from or associated with the region in the Philippines mentioned above.\n",
      "\n",
      "**3. Possible Misspellings/Variations:**\n",
      "\n",
      "*   It's possible that \"Gapit\" is a misspelling of another word. Without more context, it's hard to say for sure.\n",
      "\n",
      "**To help me give you a more specific answer, could you tell me:**\n",
      "\n",
      "*   **What is the context in which you heard or saw the word \"Gapit\"?** (e.g., a news article, a conversation, a family name, etc.)\n",
      "*   **What are you trying to find out about Gapit?**\n",
      ">>> Salom! Qanday yordam bera olaman?\n"
     ]
    }
   ],
   "source": [
    "from langchain_core.messages import HumanMessage\n",
    "stop = False\n",
    "count = 0\n",
    "while stop == False:\n",
    "    Xabar = input()\n",
    "    print(\">>>\", model.invoke([HumanMessage(content=Xabar)]).content)\n",
    "    count += 1\n",
    "    \n",
    "    if count == 5:\n",
    "        reslut = input(\"Xo'sh\")\n",
    "        if reslut == \"1\":\n",
    "            count = 0\n",
    "            continue\n",
    "        else:\n",
    "            stop = True\n",
    "print(\"Chat bilan muloqot tugadi!\")"
   ]
  },
  {
   "cell_type": "code",
   "execution_count": null,
   "id": "16e9800b",
   "metadata": {},
   "outputs": [],
   "source": []
  }
 ],
 "metadata": {
  "kernelspec": {
   "display_name": "Python 3",
   "language": "python",
   "name": "python3"
  },
  "language_info": {
   "codemirror_mode": {
    "name": "ipython",
    "version": 3
   },
   "file_extension": ".py",
   "mimetype": "text/x-python",
   "name": "python",
   "nbconvert_exporter": "python",
   "pygments_lexer": "ipython3",
   "version": "3.12.2"
  }
 },
 "nbformat": 4,
 "nbformat_minor": 5
}
