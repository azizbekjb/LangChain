{
 "cells": [
  {
   "cell_type": "code",
   "execution_count": 2,
   "id": "547dd748",
   "metadata": {},
   "outputs": [],
   "source": [
    "import getpass\n",
    "import os\n",
    "\n",
    "if not os.environ.get(\"GOOGLE_API_KEY\"):\n",
    "  os.environ[\"GOOGLE_API_KEY\"] = getpass.getpass(\"Enter API key for Google Gemini: \")\n",
    "\n",
    "from langchain.chat_models import init_chat_model\n",
    "\n",
    "model = init_chat_model(\"gemini-2.0-flash\", model_provider=\"google_genai\")"
   ]
  },
  {
   "cell_type": "code",
   "execution_count": null,
   "id": "ed876ad8",
   "metadata": {},
   "outputs": [
    {
     "name": "stdout",
     "output_type": "stream",
     "text": [
      ">>> Salom! Sizga qanday yordam bera olaman?\n",
      ">>> Salom! Yordamim kerakmi?\n",
      ">>> \"Nima gao\" is a greeting in Tibetan. It means \"How are you?\"\n",
      ">>> I am a large language model, trained by Google.\n",
      ">>> Is there something specific you're responding to with \"Really?\"  Tell me what you're thinking about and I can give you a more helpful answer. For example:\n",
      "\n",
      "*   **\"Really? That's surprising!\"**\n",
      "*   **\"Really? I didn't know that.\"**\n",
      "*   **\"Really? Are you sure?\"**\n",
      "\n",
      "What's on your mind?\n",
      ">>> Hey there! How can I help you today?\n"
     ]
    },
    {
     "name": "stderr",
     "output_type": "stream",
     "text": [
      "c:\\Users\\User\\AppData\\Local\\Programs\\Python\\Python312\\Lib\\site-packages\\langchain_google_genai\\chat_models.py:1649: UserWarning: HumanMessage with empty content was removed to prevent API error\n",
      "  warnings.warn(\n"
     ]
    },
    {
     "name": "stdout",
     "output_type": "stream",
     "text": [
      "Invalid argument provided to Gemini: 400 * GenerateContentRequest.contents: contents is not specified\n",
      "\n"
     ]
    },
    {
     "name": "stderr",
     "output_type": "stream",
     "text": [
      "c:\\Users\\User\\AppData\\Local\\Programs\\Python\\Python312\\Lib\\site-packages\\langchain_google_genai\\chat_models.py:1649: UserWarning: HumanMessage with empty content was removed to prevent API error\n",
      "  warnings.warn(\n"
     ]
    },
    {
     "name": "stdout",
     "output_type": "stream",
     "text": [
      "Invalid argument provided to Gemini: 400 * GenerateContentRequest.contents: contents is not specified\n",
      "\n",
      ">>> Okay, I understand you want to escape. To give you the best advice, I need a little more information.  **What are you trying to escape from?**\n",
      "\n",
      "Are you:\n",
      "\n",
      "*   **Figuratively escaping?** (e.g., from boredom, stress, a bad mood)\n",
      "*   **Literally escaping?** (e.g., a room, a situation, a place)\n",
      "*   **Something else entirely?**\n",
      "\n",
      "Once I know what you're trying to escape, I can offer more specific and helpful suggestions.\n"
     ]
    }
   ],
   "source": [
    "from langchain_core.messages import HumanMessage, SystemMessage\n",
    "\n",
    "while True:\n",
    "    foydalanuvchi = input()\n",
    "    try:\n",
    "        if foydalanuvchi != \"N\":\n",
    "            \n",
    "            messages = [\n",
    "                SystemMessage(\"\"),\n",
    "                HumanMessage(foydalanuvchi)\n",
    "            ]\n",
    "            print(\">>>\", model.invoke(messages).content)\n",
    "        else:\n",
    "            break\n",
    "    except Exception as ex:\n",
    "        print(ex)\n",
    "    "
   ]
  },
  {
   "cell_type": "code",
   "execution_count": null,
   "id": "70816f93",
   "metadata": {},
   "outputs": [],
   "source": [
    "\n",
    "\n",
    "\n",
    "\n"
   ]
  }
 ],
 "metadata": {
  "kernelspec": {
   "display_name": "Python 3",
   "language": "python",
   "name": "python3"
  },
  "language_info": {
   "codemirror_mode": {
    "name": "ipython",
    "version": 3
   },
   "file_extension": ".py",
   "mimetype": "text/x-python",
   "name": "python",
   "nbconvert_exporter": "python",
   "pygments_lexer": "ipython3",
   "version": "3.12.2"
  }
 },
 "nbformat": 4,
 "nbformat_minor": 5
}
